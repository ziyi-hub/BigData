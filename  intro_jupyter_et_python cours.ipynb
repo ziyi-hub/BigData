{
 "cells": [
  {
   "cell_type": "markdown",
   "metadata": {
    "id": "cb7667b6"
   },
   "source": [
    "## Notebook\n",
    "\n",
    "Un notebook permet d'associer du code , le resultat du code, des graphiques, du texte. Il est composé de cellules."
   ]
  },
  {
   "cell_type": "markdown",
   "metadata": {
    "id": "ac6c5adf"
   },
   "source": [
    "## Differents types de cellules\n",
    "\n",
    "* code\n",
    "\n",
    "Nous avons une cellule de code par défaut. Pour changer il faut aller sur la barre d'outil en haut\n",
    "\n",
    "* texte (markdown)\n",
    "\n",
    "Une cellule peut être interprétée comme du texte, selon un langage spécifique, le markdown. Il s'agit de texte enrichi de quelques règles supplémentaires qui permettet une mise en page sommaire (mais efficace) du texte. Nous allons en voir quelques exemples\n"
   ]
  },
  {
   "cell_type": "markdown",
   "metadata": {
    "id": "2ab88ead"
   },
   "source": [
    "## Quelques commandes de base :\n",
    "exécuter une cellule : bouton run (ou raccourci shift+enter)\n",
    "créer une nouvelle cellule : bouton + (ou raccourci alt+entrer)\n",
    "changer le type de la cellule : : menu déroulant\n"
   ]
  },
  {
   "cell_type": "markdown",
   "metadata": {
    "id": "598e2116"
   },
   "source": [
    "Pour écrire du texte on utilise le  markdown pour écrire du texte\n",
    "Soit on clique sur markdown en haut à droite\n",
    "Où on fait echap M\n"
   ]
  },
  {
   "cell_type": "markdown",
   "metadata": {
    "id": "8ce81d19"
   },
   "source": [
    "\n",
    "# Les titres en Markdown\n",
    "Pour écrire des titres il faut faire un dièse ou deux ou trois\n",
    "# Titre1\n",
    "## Titre2\n",
    "### Titre3"
   ]
  },
  {
   "cell_type": "markdown",
   "metadata": {
    "id": "223bccc3"
   },
   "source": [
    "## italique, gras :\n",
    "On utilise le caractère * pour mettre du texte en :\n",
    "\n",
    "italique : *texte* --> texte\n",
    "gras : **texte** --> texte"
   ]
  },
  {
   "cell_type": "markdown",
   "metadata": {
    "id": "e93c5ae5"
   },
   "source": [
    "## exporter des fichiers\n",
    "pour exporter les fichiers allez dans file et download as\n"
   ]
  },
  {
   "cell_type": "markdown",
   "metadata": {
    "id": "84852004"
   },
   "source": [
    "## Les bases de Python"
   ]
  },
  {
   "cell_type": "code",
   "execution_count": 1,
   "metadata": {
    "id": "2fb130fe"
   },
   "outputs": [
    {
     "name": "stdout",
     "output_type": "stream",
     "text": [
      "Hello world!\n"
     ]
    }
   ],
   "source": [
    "# on met des dièses pour les commentaires de code\n",
    "# votre première phrase en python\n",
    "# le print permet d'afficher\n",
    "print(\"Hello world!\")"
   ]
  },
  {
   "cell_type": "markdown",
   "metadata": {
    "id": "b12ddd26"
   },
   "source": [
    "## Calculer avec Python"
   ]
  },
  {
   "cell_type": "markdown",
   "metadata": {
    "id": "883f568b"
   },
   "source": [
    "On peut faire toute sorte de calcul sur Python\n",
    "* sommes\n",
    "* multiplications\n",
    "* soustractions\n",
    "* divisions\n",
    "* Exponentielle avec **\n",
    "* le modulo qui est le reste de la division %\n",
    "\n",
    "Je vous invite à tester en dessous"
   ]
  },
  {
   "cell_type": "code",
   "execution_count": null,
   "metadata": {
    "id": "cc2369f6"
   },
   "outputs": [],
   "source": [
    "# calculs"
   ]
  },
  {
   "cell_type": "code",
   "execution_count": null,
   "metadata": {
    "id": "89ab6b51"
   },
   "outputs": [],
   "source": []
  },
  {
   "cell_type": "markdown",
   "metadata": {
    "id": "9059e238"
   },
   "source": [
    "Pour clarifier l'ordre des calculs on peut utiliser les parenthèses."
   ]
  },
  {
   "cell_type": "code",
   "execution_count": null,
   "metadata": {
    "id": "3110cfd8"
   },
   "outputs": [],
   "source": [
    "2 + 3 * 5 + 5"
   ]
  },
  {
   "cell_type": "code",
   "execution_count": null,
   "metadata": {
    "id": "33aa2d13"
   },
   "outputs": [],
   "source": [
    "(2 + 3) * (5 + 5)"
   ]
  },
  {
   "cell_type": "code",
   "execution_count": null,
   "metadata": {
    "id": "1af850f2"
   },
   "outputs": [],
   "source": [
    "# modulo\n",
    "print(7/2)\n",
    "print(7%2)"
   ]
  },
  {
   "cell_type": "markdown",
   "metadata": {
    "id": "ef9206eb"
   },
   "source": [
    "## Les Variables\n",
    "\n",
    "Python est une excellente calculatrice 😀 mais si on veut faire des calculs plus complexes on va définir des variables . Une variable décrit un endroit où ranger des informations comme des nombres , du texte .\n",
    "Pour assigner une variable il suffit de mettre le signe =."
   ]
  },
  {
   "cell_type": "code",
   "execution_count": 2,
   "metadata": {
    "id": "b4ec8a01"
   },
   "outputs": [],
   "source": [
    "# calculons un IMC\n",
    "taille = 1.79\n",
    "poids = 70"
   ]
  },
  {
   "cell_type": "code",
   "execution_count": 7,
   "metadata": {
    "id": "c6e8393d"
   },
   "outputs": [
    {
     "data": {
      "text/plain": [
       "70"
      ]
     },
     "execution_count": 7,
     "metadata": {},
     "output_type": "execute_result"
    }
   ],
   "source": [
    "poids"
   ]
  },
  {
   "cell_type": "code",
   "execution_count": 8,
   "metadata": {
    "id": "eb1b30af"
   },
   "outputs": [],
   "source": [
    "# autocomplétion\n",
    "%config IPCompleter.greedy=True\n"
   ]
  },
  {
   "cell_type": "code",
   "execution_count": 9,
   "metadata": {
    "id": "a933a9ec"
   },
   "outputs": [],
   "source": [
    "#IMC = poids/(taille)²\n",
    "IMC = poids / (taille**2)"
   ]
  },
  {
   "cell_type": "code",
   "execution_count": 10,
   "metadata": {
    "id": "98e3ed05"
   },
   "outputs": [
    {
     "name": "stdout",
     "output_type": "stream",
     "text": [
      "21.847008520333322\n"
     ]
    }
   ],
   "source": [
    "# afficher l'IMC\n",
    "\n",
    "print(IMC)"
   ]
  },
  {
   "cell_type": "markdown",
   "metadata": {
    "id": "9a2879ec"
   },
   "source": [
    "Attention ne pas utiliser de caractères spéciaux ou commencer les variables avec des chiffres. On utilise souvent des underscore pour nommer des variables en python."
   ]
  },
  {
   "cell_type": "code",
   "execution_count": 11,
   "metadata": {
    "id": "21075feb"
   },
   "outputs": [
    {
     "ename": "SyntaxError",
     "evalue": "invalid syntax (<ipython-input-11-d95960a8adcb>, line 1)",
     "output_type": "error",
     "traceback": [
      "\u001b[0;36m  File \u001b[0;32m\"<ipython-input-11-d95960a8adcb>\"\u001b[0;36m, line \u001b[0;32m1\u001b[0m\n\u001b[0;31m    123var = 2\u001b[0m\n\u001b[0m       ^\u001b[0m\n\u001b[0;31mSyntaxError\u001b[0m\u001b[0;31m:\u001b[0m invalid syntax\n"
     ]
    }
   ],
   "source": [
    "123var = 2"
   ]
  },
  {
   "cell_type": "code",
   "execution_count": 13,
   "metadata": {
    "id": "8e6a9b6b"
   },
   "outputs": [],
   "source": [
    "nom_de_var = 12"
   ]
  },
  {
   "cell_type": "markdown",
   "metadata": {
    "id": "1cec5f93"
   },
   "source": [
    "### Types des variables:\n",
    "\n",
    "**les variables numériques**\n",
    "\n",
    "IMC est une variable numérique\n"
   ]
  },
  {
   "cell_type": "code",
   "execution_count": 14,
   "metadata": {
    "id": "f74b7907"
   },
   "outputs": [
    {
     "data": {
      "text/plain": [
       "float"
      ]
     },
     "execution_count": 14,
     "metadata": {},
     "output_type": "execute_result"
    }
   ],
   "source": [
    "type(IMC)"
   ]
  },
  {
   "cell_type": "code",
   "execution_count": 15,
   "metadata": {
    "id": "28497b09"
   },
   "outputs": [
    {
     "data": {
      "text/plain": [
       "int"
      ]
     },
     "execution_count": 15,
     "metadata": {},
     "output_type": "execute_result"
    }
   ],
   "source": [
    "a = 1\n",
    "type(a)"
   ]
  },
  {
   "cell_type": "markdown",
   "metadata": {
    "id": "624fa530"
   },
   "source": [
    " **les chaines de caractères**"
   ]
  },
  {
   "cell_type": "markdown",
   "metadata": {
    "id": "e9b06f89"
   },
   "source": [
    "Les chaines de caractères sont du texte. Pour créer une chaine de caractère en python il faut placer des guillemets devant et derrière. Des guillemets simples ou des guillemets doubles. On les affiche en mettant un print suivit de parenthèses.\n"
   ]
  },
  {
   "cell_type": "code",
   "execution_count": 16,
   "metadata": {
    "id": "b403c013"
   },
   "outputs": [
    {
     "name": "stdout",
     "output_type": "stream",
     "text": [
      "guillemets simples\n"
     ]
    }
   ],
   "source": [
    "print('guillemets simples')"
   ]
  },
  {
   "cell_type": "code",
   "execution_count": 17,
   "metadata": {
    "id": "02aed14b"
   },
   "outputs": [
    {
     "name": "stdout",
     "output_type": "stream",
     "text": [
      "guillemets doubles\n"
     ]
    }
   ],
   "source": [
    "print(\"guillemets doubles\")"
   ]
  },
  {
   "cell_type": "code",
   "execution_count": 18,
   "metadata": {
    "id": "5527831c"
   },
   "outputs": [
    {
     "name": "stdout",
     "output_type": "stream",
     "text": [
      "\"Oui\", répondit-il, j'aime bien coder en Python.\n"
     ]
    }
   ],
   "source": [
    "# découpe du texte en plusieurs variables\n",
    "phrase1 = 'coder en Python.'\n",
    "phrase2 = '\"Oui\", répondit-il,'\n",
    "phrase3 = \"j'aime bien\"\n",
    "print(phrase2, phrase3, phrase1)"
   ]
  },
  {
   "cell_type": "code",
   "execution_count": null,
   "metadata": {
    "id": "90a010aa"
   },
   "outputs": [],
   "source": [
    "type(phrase3)"
   ]
  },
  {
   "cell_type": "markdown",
   "metadata": {
    "id": "ee3125a6"
   },
   "source": [
    "###  warning faites bien attention aux guillemets!!!"
   ]
  },
  {
   "cell_type": "code",
   "execution_count": null,
   "metadata": {
    "id": "baa89740"
   },
   "outputs": [],
   "source": [
    "# si je réécris la phrase 3 avec guillemets simples\n",
    "phrase4 = 'j'aime bien'"
   ]
  },
  {
   "cell_type": "markdown",
   "metadata": {
    "id": "37bc2972"
   },
   "source": [
    "**Inserer des valeurs dans une chaine**\n",
    "\n",
    "\n",
    "Pour afficher un message avec le contenu d'une variable, on insèe une valeur de chaine dans la chaine de message avec %s .On utilise le % dans le print pour dire à Python où chercher la valeur"
   ]
  },
  {
   "cell_type": "code",
   "execution_count": 19,
   "metadata": {
    "id": "ea18844b"
   },
   "outputs": [
    {
     "name": "stdout",
     "output_type": "stream",
     "text": [
      "tu as obtenu 1000 points\n"
     ]
    }
   ],
   "source": [
    "monscore = 1000\n",
    "message = \"tu as obtenu %s points\"\n",
    "print(message % monscore)"
   ]
  },
  {
   "cell_type": "markdown",
   "metadata": {
    "id": "99655182"
   },
   "source": [
    "### le formatage\n",
    "On peut préparer une chaîne « patron » contenant\n",
    "l’essentiel du texte invariable, avec des balises particulières aux endroits (les champs) où l'on souhaite\n",
    "qu’apparaissent des contenus variables. On applique ensuite à cette chaîne la méthode format().\n"
   ]
  },
  {
   "cell_type": "code",
   "execution_count": 20,
   "metadata": {
    "id": "9f67dca5"
   },
   "outputs": [
    {
     "name": "stdout",
     "output_type": "stream",
     "text": [
      "La couleur est verte et la température vaut 17.247 °C\n"
     ]
    }
   ],
   "source": [
    "coul =\"verte\"\n",
    "temp =1.347 + 15.9\n",
    "ch =\"La couleur est {} et la température vaut {} °C\"\n",
    "print(ch.format(coul, temp))"
   ]
  },
  {
   "cell_type": "code",
   "execution_count": 24,
   "metadata": {
    "id": "e2ec1038"
   },
   "outputs": [
    {
     "name": "stdout",
     "output_type": "stream",
     "text": [
      "que dit un 0 à un 8 ? Jolie ceinture !\n"
     ]
    }
   ],
   "source": [
    "# imprime cette phrase\n",
    "nb1 = 0\n",
    "nb2 = 8\n",
    "nombres = \"que dit un {} à un {} ? Jolie ceinture !\"\n",
    "print(nombres.format(nb1, nb2))"
   ]
  },
  {
   "cell_type": "code",
   "execution_count": null,
   "metadata": {
    "id": "ce07bc95"
   },
   "outputs": [],
   "source": [
    "#print(nombres.format(nb1,nb2))"
   ]
  },
  {
   "cell_type": "markdown",
   "metadata": {
    "id": "cf57e32b"
   },
   "source": [
    "**Accès au caractères individuel d'une chaine de caractère**\n",
    "\n",
    "Attention en python on commence toujours par le Zero (et non par un)."
   ]
  },
  {
   "cell_type": "code",
   "execution_count": 25,
   "metadata": {
    "id": "53601635"
   },
   "outputs": [
    {
     "name": "stdout",
     "output_type": "stream",
     "text": [
      "C i t\n"
     ]
    }
   ],
   "source": [
    "# exemple\n",
    "ch = \"Christine\"\n",
    "print(ch[0], ch[3], ch[5])"
   ]
  },
  {
   "cell_type": "markdown",
   "metadata": {
    "id": "2b4ae872"
   },
   "source": [
    "On peut également faire du slicing\n"
   ]
  },
  {
   "cell_type": "code",
   "execution_count": 26,
   "metadata": {
    "id": "7bfd3906"
   },
   "outputs": [],
   "source": [
    "s = 'abcdef'"
   ]
  },
  {
   "cell_type": "code",
   "execution_count": 27,
   "metadata": {
    "id": "73f1dbde"
   },
   "outputs": [
    {
     "data": {
      "text/plain": [
       "'abc'"
      ]
     },
     "execution_count": 27,
     "metadata": {},
     "output_type": "execute_result"
    }
   ],
   "source": [
    "s[:3]"
   ]
  },
  {
   "cell_type": "code",
   "execution_count": 28,
   "metadata": {
    "id": "c4a99766"
   },
   "outputs": [
    {
     "data": {
      "text/plain": [
       "'abc'"
      ]
     },
     "execution_count": 28,
     "metadata": {},
     "output_type": "execute_result"
    }
   ],
   "source": [
    "s[0:3]"
   ]
  },
  {
   "cell_type": "markdown",
   "metadata": {
    "id": "52736494"
   },
   "source": [
    "La principale difficulté que vous allez rencontrer est lors de l'association de différents types, par exemple dans une opération mathématique. Dans ce cas il faut parfois être vigilant."
   ]
  },
  {
   "cell_type": "markdown",
   "metadata": {
    "id": "fb632807"
   },
   "source": [
    "<font color =green > Exemples .</font>\n"
   ]
  },
  {
   "cell_type": "code",
   "execution_count": 29,
   "metadata": {
    "id": "26d3449f"
   },
   "outputs": [
    {
     "name": "stdout",
     "output_type": "stream",
     "text": [
      "4\n",
      "0.3333333333333333\n",
      "0\n"
     ]
    }
   ],
   "source": [
    "a=1\n",
    "b = 3\n",
    "print(a+b)\n",
    "print (a/b)\n",
    "print(a//b)"
   ]
  },
  {
   "cell_type": "code",
   "execution_count": 30,
   "metadata": {
    "id": "9ffdb952"
   },
   "outputs": [
    {
     "name": "stdout",
     "output_type": "stream",
     "text": [
      "13\n"
     ]
    }
   ],
   "source": [
    "a='1'\n",
    "b='3';\n",
    "print(a+b)"
   ]
  },
  {
   "cell_type": "markdown",
   "metadata": {
    "id": "ac0c7ce1"
   },
   "source": [
    "## Les structures de données : Les listes , Dictionnaires"
   ]
  },
  {
   "cell_type": "markdown",
   "metadata": {
    "id": "de881814"
   },
   "source": [
    "* **Les listes - elles s’écrivent entre [ ]**\n",
    "\n",
    "En Python, on peut définir une liste comme une collection d’éléments séparés par des virgules, l’ensemble étant enfermé dans des crochets"
   ]
  },
  {
   "cell_type": "code",
   "execution_count": 31,
   "metadata": {
    "id": "b01e9652"
   },
   "outputs": [
    {
     "name": "stdout",
     "output_type": "stream",
     "text": [
      "['lundi', 'mardi', 'mercredi', 1800, 20.357, 'jeudi', 'vendredi']\n"
     ]
    }
   ],
   "source": [
    "# exemple\n",
    "jour = ['lundi', 'mardi', 'mercredi', 1800, 20.357, 'jeudi', 'vendredi']\n",
    "print(jour)"
   ]
  },
  {
   "cell_type": "code",
   "execution_count": 32,
   "metadata": {
    "id": "896f1019"
   },
   "outputs": [],
   "source": [
    "# ajouter des choses à ma liste avec append\n",
    "jour.append('samedi')"
   ]
  },
  {
   "cell_type": "code",
   "execution_count": 33,
   "metadata": {
    "id": "2e482fc7"
   },
   "outputs": [
    {
     "data": {
      "text/plain": [
       "['lundi', 'mardi', 'mercredi', 1800, 20.357, 'jeudi', 'vendredi', 'samedi']"
      ]
     },
     "execution_count": 33,
     "metadata": {},
     "output_type": "execute_result"
    }
   ],
   "source": [
    "jour"
   ]
  },
  {
   "cell_type": "code",
   "execution_count": 34,
   "metadata": {
    "id": "c756786d"
   },
   "outputs": [
    {
     "data": {
      "text/plain": [
       "['mardi', 'mercredi']"
      ]
     },
     "execution_count": 34,
     "metadata": {},
     "output_type": "execute_result"
    }
   ],
   "source": [
    "#slicing\n",
    "jour[1:3]"
   ]
  },
  {
   "cell_type": "code",
   "execution_count": 35,
   "metadata": {
    "id": "c85a36f8"
   },
   "outputs": [
    {
     "name": "stdout",
     "output_type": "stream",
     "text": [
      "[]\n"
     ]
    }
   ],
   "source": [
    "# on peut egalement avoir une liste vide\n",
    "\n",
    "vide = []\n",
    "print(vide)"
   ]
  },
  {
   "cell_type": "code",
   "execution_count": 37,
   "metadata": {
    "id": "61be2fa0"
   },
   "outputs": [],
   "source": [
    "# On peut même avoir des listes de listes !\n",
    "maliste = [[1,2,3,4], ['lundi', 'mardi', 'mercredi', 1800, 20.357, 'jeudi', 'vendredi']]"
   ]
  },
  {
   "cell_type": "markdown",
   "metadata": {
    "id": "45b82e77"
   },
   "source": [
    ".on peut acceder à la liste avec le numéro d'index. Attention on commence toujours par zero."
   ]
  },
  {
   "cell_type": "code",
   "execution_count": 38,
   "metadata": {
    "id": "cb1956c8"
   },
   "outputs": [
    {
     "name": "stdout",
     "output_type": "stream",
     "text": [
      "La longueur de ma liste est de 2\n",
      "Le premier élément de ma liste est : [1, 2, 3, 4]\n",
      "Le dernier élément de ma liste est : ['lundi', 'mardi', 'mercredi', 1800, 20.357, 'jeudi', 'vendredi']\n",
      "Le dernier élément de ma liste est : ['lundi', 'mardi', 'mercredi', 1800, 20.357, 'jeudi', 'vendredi']\n"
     ]
    }
   ],
   "source": [
    "print(\"La longueur de ma liste est de\", len(maliste))\n",
    "print(\"Le premier élément de ma liste est :\", maliste[0])\n",
    "print(\"Le dernier élément de ma liste est :\", maliste[1])\n",
    "print(\"Le dernier élément de ma liste est :\", maliste[-1])"
   ]
  },
  {
   "cell_type": "code",
   "execution_count": 39,
   "metadata": {
    "id": "1d98b4ea"
   },
   "outputs": [],
   "source": [
    "# nested list"
   ]
  },
  {
   "cell_type": "markdown",
   "metadata": {
    "id": "adea4566"
   },
   "source": [
    "* **Les dictionnaires - ils s’écrivent entre accolades {}**\n",
    "\n",
    "Un dictionnaire associe à une clé un autre élément, appelé une valeur : un chiffre, un nom, une liste, un autre dictionnaire etc. Le format d’un dictionnaire est le suivant: {Clé : valeur}. Il s’agit d’un objet très pratique pour la recherche, beaucoup plus que les listes qui ne permettent pas de stocker de l’information diverse de manière hiérarchisée."
   ]
  },
  {
   "cell_type": "code",
   "execution_count": 40,
   "metadata": {
    "id": "30e927cb"
   },
   "outputs": [
    {
     "name": "stdout",
     "output_type": "stream",
     "text": [
      "{'Mickael': 18, 'Jackson': 15}\n"
     ]
    }
   ],
   "source": [
    "# exemple\n",
    "mon_dictionnaire_notes = { 'Mickael' : 18 , 'Jackson' : 15}\n",
    "# un dictionnaire qui à chaque nom associe un nombre\n",
    "# à Nicolas, on associe 18\n",
    "\n",
    "print(mon_dictionnaire_notes)"
   ]
  },
  {
   "cell_type": "markdown",
   "metadata": {
    "id": "a7a50fda"
   },
   "source": [
    "**Pour corser un peu les choses**\n",
    "\n",
    "\n",
    "Dictionnaire avec des valeurs qui sont des listes\n",
    "Pour chaque clé d’un dictionnaire, il ne faut pas forcément garder la même forme de valeur\n",
    "\n",
    "Dans l’exemple, la valeur de la clé “Nicolas” est une liste, alors que celle de “Philou” est une liste de liste."
   ]
  },
  {
   "cell_type": "code",
   "execution_count": 41,
   "metadata": {
    "id": "9c036239"
   },
   "outputs": [],
   "source": [
    "mon_dictionnaire_loisirs =  \\\n",
    "{ 'Nicolas' : ['Rugby','Chocolat','Belote'] ,\n",
    "  'Pimprenelle' : ['Lecture','Tisane','Tara Jarmon','Barcelone','Mickey Mouse'],\n",
    "  'Philou' : [['Maths','Jeux'],['Guillaume','Jeanne','Thimothée','Adrien']]}"
   ]
  },
  {
   "cell_type": "markdown",
   "metadata": {
    "id": "7989479d"
   },
   "source": [
    "Pour accéder à un élément du dictionnaire, on fait appel à la clé et non plus la position, comme c’était le cas dans les listes. C’est beaucoup plus pratique pour rechercher de l’information:"
   ]
  },
  {
   "cell_type": "code",
   "execution_count": 42,
   "metadata": {
    "id": "c4379e3f"
   },
   "outputs": [
    {
     "name": "stdout",
     "output_type": "stream",
     "text": [
      "['Rugby', 'Chocolat', 'Belote']\n"
     ]
    }
   ],
   "source": [
    "print(mon_dictionnaire_loisirs['Nicolas']) # on affiche une liste\n"
   ]
  },
  {
   "cell_type": "code",
   "execution_count": null,
   "metadata": {
    "id": "ba60c634"
   },
   "outputs": [],
   "source": [
    "print(mon_dictionnaire_loisirs['Philou']) # on affiche une liste de listes"
   ]
  },
  {
   "cell_type": "markdown",
   "metadata": {
    "id": "bb08ee11"
   },
   "source": [
    "Si on ne veut avoir que la première liste des loisirs de Philou, on demande le premier élément de la liste"
   ]
  },
  {
   "cell_type": "code",
   "execution_count": null,
   "metadata": {
    "id": "fdc828a0"
   },
   "outputs": [],
   "source": [
    "print(mon_dictionnaire_loisirs['Philou'][0]) # on affiche alors juste la première liste"
   ]
  },
  {
   "cell_type": "markdown",
   "metadata": {
    "id": "8a7289c0"
   },
   "source": []
  },
  {
   "cell_type": "markdown",
   "metadata": {
    "id": "732ff0a1"
   },
   "source": [
    " ## Petit Quizz\n",
    " 1. Quelle est la position de 7 dans la liste suivante"
   ]
  },
  {
   "cell_type": "code",
   "execution_count": 43,
   "metadata": {
    "id": "cba66a93"
   },
   "outputs": [],
   "source": [
    "liste_nombres = [1,2,7,5,3]\n"
   ]
  },
  {
   "cell_type": "markdown",
   "metadata": {
    "id": "3e7d316b"
   },
   "source": [
    "2. Combien de clés a ce dictionnaire ?"
   ]
  },
  {
   "cell_type": "code",
   "execution_count": null,
   "metadata": {
    "id": "a8bd9922"
   },
   "outputs": [],
   "source": [
    "dictionnaire_nourriture = {\"Fruit\" : \"bananes\", \"Legumes\" : [\"Brocolis\",\"Haricots\"] ,\n",
    "                          \"Proteines\" : \"Poisson\" , \"Friandises\" : \"Chocolat\"}"
   ]
  },
  {
   "cell_type": "markdown",
   "metadata": {
    "id": "6ee10b9d"
   },
   "source": [
    "3. Que faut-il écrire pour obtenir “Brocolis” en résultat à partir du dictionnaire_evangile"
   ]
  },
  {
   "cell_type": "code",
   "execution_count": null,
   "metadata": {
    "id": "cfe67ced"
   },
   "outputs": [],
   "source": [
    "dictionnaire_nourriture[\"Legumes\"][0]"
   ]
  },
  {
   "cell_type": "markdown",
   "metadata": {
    "id": "2c4efaf1"
   },
   "source": [
    "## Les Tuples\n",
    "\n",
    "Une autre structure de données que l'on peut voir en data c'est le Tuple\n",
    "C'est une structure qui ressemble au listes mais que l'on ne peut pas modifier quand ils sont crées. On dit qu'elles sont immutables."
   ]
  },
  {
   "cell_type": "code",
   "execution_count": 44,
   "metadata": {
    "id": "c0b9aaab"
   },
   "outputs": [],
   "source": [
    "# exemple\n",
    "t = (1,2,3)\n",
    "my_list= [1,2,3]"
   ]
  },
  {
   "cell_type": "code",
   "execution_count": 45,
   "metadata": {
    "id": "063d8718"
   },
   "outputs": [
    {
     "data": {
      "text/plain": [
       "1"
      ]
     },
     "execution_count": 45,
     "metadata": {},
     "output_type": "execute_result"
    }
   ],
   "source": [
    "t[0]"
   ]
  },
  {
   "cell_type": "code",
   "execution_count": 46,
   "metadata": {
    "id": "a5cb8cde"
   },
   "outputs": [
    {
     "data": {
      "text/plain": [
       "1"
      ]
     },
     "execution_count": 46,
     "metadata": {},
     "output_type": "execute_result"
    }
   ],
   "source": [
    "my_list[0]"
   ]
  },
  {
   "cell_type": "code",
   "execution_count": 47,
   "metadata": {
    "id": "d4b283da"
   },
   "outputs": [],
   "source": [
    "my_list[0]='new'"
   ]
  },
  {
   "cell_type": "code",
   "execution_count": 48,
   "metadata": {
    "id": "0d531c80"
   },
   "outputs": [
    {
     "data": {
      "text/plain": [
       "['new', 2, 3]"
      ]
     },
     "execution_count": 48,
     "metadata": {},
     "output_type": "execute_result"
    }
   ],
   "source": [
    "my_list"
   ]
  },
  {
   "cell_type": "code",
   "execution_count": 49,
   "metadata": {
    "id": "74f6fec5"
   },
   "outputs": [
    {
     "ename": "TypeError",
     "evalue": "'tuple' object does not support item assignment",
     "output_type": "error",
     "traceback": [
      "\u001b[0;31m---------------------------------------------------------------------------\u001b[0m",
      "\u001b[0;31mTypeError\u001b[0m                                 Traceback (most recent call last)",
      "\u001b[0;32m<ipython-input-49-3d8cb7a6b01a>\u001b[0m in \u001b[0;36m<module>\u001b[0;34m\u001b[0m\n\u001b[0;32m----> 1\u001b[0;31m \u001b[0mt\u001b[0m\u001b[0;34m[\u001b[0m\u001b[0;36m0\u001b[0m\u001b[0;34m]\u001b[0m\u001b[0;34m=\u001b[0m\u001b[0;34m'new'\u001b[0m\u001b[0;34m\u001b[0m\u001b[0;34m\u001b[0m\u001b[0m\n\u001b[0m",
      "\u001b[0;31mTypeError\u001b[0m: 'tuple' object does not support item assignment"
     ]
    }
   ],
   "source": [
    "t[0]='new'"
   ]
  },
  {
   "cell_type": "markdown",
   "metadata": {
    "id": "b2ffc909"
   },
   "source": [
    "Cette caractéristique garantit que les que les données stockées dans un tuple restent constantes, ce qui peut être utile dans certaines situations où la cohérence des données est cruciale.\n",
    "\n",
    "\n",
    " En raison de leur immuabilité, les tuples peuvent protéger les données contre les modifications accidentelles ou indésirables. Par exemple, si vous passez un tuple en argument à une fonction, vous pouvez être sûr que la fonction ne modifiera pas les éléments du tuple, contrairement à une liste qui pourrait être modifiée."
   ]
  },
  {
   "cell_type": "markdown",
   "metadata": {
    "id": "0face046"
   },
   "source": [
    "## Les Sets\n",
    "Une autre structure de données sont les sets . Les sets est une collection d'élements uniques"
   ]
  },
  {
   "cell_type": "code",
   "execution_count": 50,
   "metadata": {
    "id": "a14eb70a"
   },
   "outputs": [
    {
     "data": {
      "text/plain": [
       "{1, 2, 3}"
      ]
     },
     "execution_count": 50,
     "metadata": {},
     "output_type": "execute_result"
    }
   ],
   "source": [
    "# exemple\n",
    "{1,2,3}"
   ]
  },
  {
   "cell_type": "code",
   "execution_count": 53,
   "metadata": {
    "id": "fe6f3a38"
   },
   "outputs": [
    {
     "data": {
      "text/plain": [
       "{1, 2, 3, 4}"
      ]
     },
     "execution_count": 53,
     "metadata": {},
     "output_type": "execute_result"
    }
   ],
   "source": [
    "{1,1,1,2,2,2,3,3,3,1,4,4,1}"
   ]
  },
  {
   "cell_type": "code",
   "execution_count": 54,
   "metadata": {
    "id": "8a562033"
   },
   "outputs": [],
   "source": [
    "s= {1,2,3}"
   ]
  },
  {
   "cell_type": "code",
   "execution_count": 55,
   "metadata": {
    "id": "55cc7eff"
   },
   "outputs": [],
   "source": [
    "s.add(4)"
   ]
  },
  {
   "cell_type": "code",
   "execution_count": 56,
   "metadata": {
    "id": "9ccb27d9"
   },
   "outputs": [
    {
     "data": {
      "text/plain": [
       "{1, 2, 3, 4}"
      ]
     },
     "execution_count": 56,
     "metadata": {},
     "output_type": "execute_result"
    }
   ],
   "source": [
    "s"
   ]
  },
  {
   "cell_type": "markdown",
   "metadata": {
    "id": "4e58d48d"
   },
   "source": [
    "## Passer des listes, dictionnaires à Pandas\n",
    "\n",
    "Passer des listes, dictionnaires à pandas\n",
    "Supposons que la variable ‘data’ est une liste qui contient nos données.\n",
    "\n",
    "Une observation correspond à un dictionnaire qui contient le nom, le type, l’ambiance et la note d’un restaurant.\n",
    "\n",
    "Il est aisé de transformer cette liste en dataframe grâce à la fonction ‘DataFrame’."
   ]
  },
  {
   "cell_type": "code",
   "execution_count": 58,
   "metadata": {
    "id": "f0ee015a"
   },
   "outputs": [
    {
     "name": "stdout",
     "output_type": "stream",
     "text": [
      "[{'nom': 'Little Pub', 'type': 'Bar', 'ambiance': 9, 'note': 7}, {'nom': 'Le Corse', 'type': 'Sandwicherie', 'ambiance': 2, 'note': 8}, {'nom': 'Café Caumartin', 'type': 'Bar', 'ambiance': 1}]\n"
     ]
    },
    {
     "data": {
      "text/html": [
       "<div>\n",
       "<style scoped>\n",
       "    .dataframe tbody tr th:only-of-type {\n",
       "        vertical-align: middle;\n",
       "    }\n",
       "\n",
       "    .dataframe tbody tr th {\n",
       "        vertical-align: top;\n",
       "    }\n",
       "\n",
       "    .dataframe thead th {\n",
       "        text-align: right;\n",
       "    }\n",
       "</style>\n",
       "<table border=\"1\" class=\"dataframe\">\n",
       "  <thead>\n",
       "    <tr style=\"text-align: right;\">\n",
       "      <th></th>\n",
       "      <th>nom</th>\n",
       "      <th>type</th>\n",
       "      <th>ambiance</th>\n",
       "      <th>note</th>\n",
       "    </tr>\n",
       "  </thead>\n",
       "  <tbody>\n",
       "    <tr>\n",
       "      <th>0</th>\n",
       "      <td>Little Pub</td>\n",
       "      <td>Bar</td>\n",
       "      <td>9</td>\n",
       "      <td>7.0</td>\n",
       "    </tr>\n",
       "    <tr>\n",
       "      <th>1</th>\n",
       "      <td>Le Corse</td>\n",
       "      <td>Sandwicherie</td>\n",
       "      <td>2</td>\n",
       "      <td>8.0</td>\n",
       "    </tr>\n",
       "    <tr>\n",
       "      <th>2</th>\n",
       "      <td>Café Caumartin</td>\n",
       "      <td>Bar</td>\n",
       "      <td>1</td>\n",
       "      <td>NaN</td>\n",
       "    </tr>\n",
       "  </tbody>\n",
       "</table>\n",
       "</div>"
      ],
      "text/plain": [
       "              nom          type  ambiance  note\n",
       "0      Little Pub           Bar         9   7.0\n",
       "1        Le Corse  Sandwicherie         2   8.0\n",
       "2  Café Caumartin           Bar         1   NaN"
      ]
     },
     "execution_count": 58,
     "metadata": {},
     "output_type": "execute_result"
    }
   ],
   "source": [
    "import pandas\n",
    "\n",
    "data = [{\"nom\": \"Little Pub\", \"type\" : \"Bar\", \"ambiance\": 9, \"note\": 7},\n",
    "     {\"nom\": \"Le Corse\", \"type\" : \"Sandwicherie\", \"ambiance\": 2, \"note\": 8},\n",
    "     {\"nom\": \"Café Caumartin\", \"type\" : \"Bar\", \"ambiance\": 1}]\n",
    "\n",
    "df = pandas.DataFrame(data)\n",
    "\n",
    "print(data)\n",
    "df"
   ]
  },
  {
   "cell_type": "markdown",
   "metadata": {
    "id": "4f48ab12"
   },
   "source": [
    "## Les Booléens"
   ]
  },
  {
   "cell_type": "code",
   "execution_count": 59,
   "metadata": {
    "id": "0de84cbb"
   },
   "outputs": [
    {
     "data": {
      "text/plain": [
       "False"
      ]
     },
     "execution_count": 59,
     "metadata": {},
     "output_type": "execute_result"
    }
   ],
   "source": [
    "1>2"
   ]
  },
  {
   "cell_type": "code",
   "execution_count": 60,
   "metadata": {
    "id": "751dbfa9"
   },
   "outputs": [
    {
     "data": {
      "text/plain": [
       "True"
      ]
     },
     "execution_count": 60,
     "metadata": {},
     "output_type": "execute_result"
    }
   ],
   "source": [
    "1<2"
   ]
  },
  {
   "cell_type": "code",
   "execution_count": 61,
   "metadata": {
    "id": "b89c312e"
   },
   "outputs": [
    {
     "data": {
      "text/plain": [
       "False"
      ]
     },
     "execution_count": 61,
     "metadata": {},
     "output_type": "execute_result"
    }
   ],
   "source": [
    "# deux egals pour l'égalité\n",
    "1== 2"
   ]
  },
  {
   "cell_type": "code",
   "execution_count": 62,
   "metadata": {
    "id": "5804643c"
   },
   "outputs": [
    {
     "data": {
      "text/plain": [
       "True"
      ]
     },
     "execution_count": 62,
     "metadata": {},
     "output_type": "execute_result"
    }
   ],
   "source": [
    "1== 1"
   ]
  },
  {
   "cell_type": "code",
   "execution_count": 63,
   "metadata": {
    "id": "f694d2a6"
   },
   "outputs": [
    {
     "data": {
      "text/plain": [
       "True"
      ]
     },
     "execution_count": 63,
     "metadata": {},
     "output_type": "execute_result"
    }
   ],
   "source": [
    "1 != 2"
   ]
  },
  {
   "cell_type": "code",
   "execution_count": 64,
   "metadata": {
    "id": "d1b766f0"
   },
   "outputs": [
    {
     "data": {
      "text/plain": [
       "True"
      ]
     },
     "execution_count": 64,
     "metadata": {},
     "output_type": "execute_result"
    }
   ],
   "source": [
    "# combinaisons\n",
    "(1<2 )and (2<3)"
   ]
  },
  {
   "cell_type": "code",
   "execution_count": 65,
   "metadata": {
    "id": "c7572c04"
   },
   "outputs": [
    {
     "data": {
      "text/plain": [
       "True"
      ]
     },
     "execution_count": 65,
     "metadata": {},
     "output_type": "execute_result"
    }
   ],
   "source": [
    "\n",
    "(1<2 )or (2<3) or (1==1)"
   ]
  },
  {
   "cell_type": "markdown",
   "metadata": {
    "id": "f8d3c1db"
   },
   "source": [
    "### Tests, Boucles, Fonctions"
   ]
  },
  {
   "cell_type": "code",
   "execution_count": null,
   "metadata": {
    "id": "927e7dc5"
   },
   "outputs": [],
   "source": []
  },
  {
   "cell_type": "markdown",
   "metadata": {
    "id": "22d40729"
   },
   "source": [
    "En python, les structures (boucles, if, fonctions, etc...) sont indiquées avec l'indentation. Il est donc primordial de respecter l'indentation lors de l'écriture d'un programme !! La syntaxe est en général :\n",
    "\n",
    "\n",
    "for var in liste:\n",
    "\n",
    "    (action)\n",
    "\n",
    "if (condition):\n",
    "\n",
    "    (action)\n",
    "\n",
    "L'indentation et les deux points sont absolument nécessaire à l'éxecution du code !!\n",
    "\n",
    "### Exemple:\n"
   ]
  },
  {
   "cell_type": "code",
   "execution_count": 66,
   "metadata": {
    "id": "c70f9f19"
   },
   "outputs": [
    {
     "name": "stdout",
     "output_type": "stream",
     "text": [
      "0\n",
      "1\n",
      "2\n",
      "3\n",
      "4\n",
      "5\n"
     ]
    }
   ],
   "source": [
    "for i in [0,1,2,3,4,5]:\n",
    "    print(i)\n"
   ]
  },
  {
   "cell_type": "code",
   "execution_count": 67,
   "metadata": {
    "id": "7f0a66ed"
   },
   "outputs": [
    {
     "name": "stdout",
     "output_type": "stream",
     "text": [
      "0\n",
      "done\n",
      "1\n",
      "done\n",
      "2\n",
      "done\n",
      "3\n",
      "done\n",
      "done\n",
      "done\n",
      "done\n",
      "done\n",
      "done\n"
     ]
    }
   ],
   "source": [
    "for i in [0,1,2,3,4,5,6,7,8]:\n",
    "    if i<4:          # première indentation\n",
    "        print(i)     # deux indentations : on est dans le cas (if), lui-même dans la boucle\n",
    "    print('done')    # plus qu'une indentation : on est sorti du cas, mais pas de la boucle"
   ]
  },
  {
   "cell_type": "markdown",
   "metadata": {
    "id": "38af1c0d"
   },
   "source": [
    "Pour imbriquer des structures les unes dans les autres, il suffit d'ajouter un cran à l'indentation.\n",
    "\n",
    "Attention à bien respecter l'indentation lors de la sortie d'une structure.\n",
    "\n",
    "### Test avec contrepartie : if et else\n",
    "\n",
    "Comme dans les autres langages, on teste une condition. Si elle est vérifiée, alors une instruction suit et sinon, une autre instruction est exécutée.\n",
    "\n",
    "**Exemple**"
   ]
  },
  {
   "cell_type": "code",
   "execution_count": 68,
   "metadata": {
    "id": "a04c1888"
   },
   "outputs": [
    {
     "name": "stdout",
     "output_type": "stream",
     "text": [
      "x est plus grand que 5\n"
     ]
    }
   ],
   "source": [
    "x = 6\n",
    "\n",
    "if x > 5 :\n",
    "    print(\"x est plus grand que 5\")\n",
    "else : # la contrepartie si la condition if n'est pas réalisée\n",
    "    print(\"x est plus petit que 5\")\n"
   ]
  },
  {
   "cell_type": "markdown",
   "metadata": {
    "id": "e501ded4"
   },
   "source": [
    "### **Tests successifs : if, elif et else**\n",
    "\n"
   ]
  },
  {
   "cell_type": "code",
   "execution_count": 69,
   "metadata": {
    "id": "6bf3288d"
   },
   "outputs": [
    {
     "name": "stdout",
     "output_type": "stream",
     "text": [
      "middle\n"
     ]
    }
   ],
   "source": [
    "if 1 == 2:\n",
    "    print('first')\n",
    "elif 3 == 3:\n",
    "    print('middle')\n",
    "else:\n",
    "    print('Last')"
   ]
  },
  {
   "cell_type": "markdown",
   "metadata": {
    "id": "24116588"
   },
   "source": [
    "**REMARQUE**\n",
    "Avec if et elif, dès qu’on rencontre une condition qui est réalisée, on n’en cherche pas d’autres potentiellement vérifiées. Plusieurs if à la suite peuvent quant à eux être vérifiés."
   ]
  },
  {
   "cell_type": "markdown",
   "metadata": {
    "id": "d22ee9a0"
   },
   "source": [
    "### Boucles\n",
    "\n",
    "Il existe deux types de boucles : les boucles for et les boucles while\n",
    "\n",
    "La boucle for parcourt un ensemble, tandis que la boucle while continue tant qu’une condition est vraie.\n",
    "\n",
    "\n"
   ]
  },
  {
   "cell_type": "markdown",
   "metadata": {
    "id": "e58168bf"
   },
   "source": [
    "## Boucle for\n",
    "\n"
   ]
  },
  {
   "cell_type": "code",
   "execution_count": 70,
   "metadata": {
    "id": "a49690c0"
   },
   "outputs": [],
   "source": [
    "seq = [1,2,3,4,5]"
   ]
  },
  {
   "cell_type": "code",
   "execution_count": 71,
   "metadata": {
    "id": "d964cd8c"
   },
   "outputs": [
    {
     "name": "stdout",
     "output_type": "stream",
     "text": [
      "1\n",
      "2\n",
      "3\n",
      "4\n",
      "5\n"
     ]
    }
   ],
   "source": [
    "for num in seq:\n",
    "    print(num)"
   ]
  },
  {
   "cell_type": "markdown",
   "metadata": {
    "id": "5a2ba3ab"
   },
   "source": [
    "## Boucle While"
   ]
  },
  {
   "cell_type": "code",
   "execution_count": 72,
   "metadata": {
    "id": "578dd884"
   },
   "outputs": [
    {
     "name": "stdout",
     "output_type": "stream",
     "text": [
      "i is: 1\n",
      "i is: 2\n",
      "i is: 3\n",
      "i is: 4\n"
     ]
    }
   ],
   "source": [
    "i = 1\n",
    "\n",
    "while i < 5:\n",
    "    print('i is: {}'.format(i))\n",
    "    i = i+1\n"
   ]
  },
  {
   "cell_type": "markdown",
   "metadata": {
    "id": "f8eb07d2"
   },
   "source": [
    "### **Attention aux boucles infinies !!!**"
   ]
  },
  {
   "cell_type": "markdown",
   "metadata": {
    "id": "73acaa14"
   },
   "source": [
    "### Fonctions\n",
    "\n",
    "Les fonctions permettent de faire la même chose sans avoir à recopier le code plusieurs fois dans le même programme. Dès que vous le pouvez, faites des fonctions.\n",
    "\n",
    "Elles peuvent prendre plusieurs paramètres (ou aucun) elles peuvent retourner plusieurs résultats (ou aucun)\n",
    "\n",
    "On peut mettre de la documentation dans la fonction en mettant des guillements."
   ]
  },
  {
   "cell_type": "code",
   "execution_count": 75,
   "metadata": {
    "id": "fe9b687e"
   },
   "outputs": [],
   "source": [
    "def ma_fonction_increment(parametre) :\n",
    "    \"\"\"Cette fonction ajoute 1 au paramètre qu'on lui donne\"\"\"\n",
    "    x = parametre + 1\n",
    "    return x\n"
   ]
  },
  {
   "cell_type": "code",
   "execution_count": 76,
   "metadata": {
    "id": "2a9b465b"
   },
   "outputs": [
    {
     "data": {
      "text/plain": [
       "6"
      ]
     },
     "execution_count": 76,
     "metadata": {},
     "output_type": "execute_result"
    }
   ],
   "source": [
    "ma_fonction_increment(5)"
   ]
  },
  {
   "cell_type": "code",
   "execution_count": 80,
   "metadata": {
    "id": "9dece6c2"
   },
   "outputs": [
    {
     "data": {
      "text/plain": [
       "8"
      ]
     },
     "execution_count": 80,
     "metadata": {},
     "output_type": "execute_result"
    }
   ],
   "source": [
    "ma_fonction_increment(7)"
   ]
  },
  {
   "cell_type": "code",
   "execution_count": 81,
   "metadata": {
    "id": "6918da32"
   },
   "outputs": [
    {
     "data": {
      "text/plain": [
       "112"
      ]
     },
     "execution_count": 81,
     "metadata": {},
     "output_type": "execute_result"
    }
   ],
   "source": [
    "ma_fonction_increment(111)"
   ]
  },
  {
   "cell_type": "code",
   "execution_count": 83,
   "metadata": {
    "id": "a683fe85"
   },
   "outputs": [
    {
     "data": {
      "text/plain": [
       "1.5"
      ]
     },
     "execution_count": 83,
     "metadata": {},
     "output_type": "execute_result"
    }
   ],
   "source": [
    "#pour voir la fonction shift tab à la fin du nom de la fonction.\n",
    "ma_fonction_increment(0.5)"
   ]
  },
  {
   "cell_type": "markdown",
   "metadata": {
    "id": "dba337c6"
   },
   "source": [
    "Cela est valable également pour les fonctions deja présentes dans python"
   ]
  },
  {
   "cell_type": "code",
   "execution_count": 84,
   "metadata": {
    "id": "37b3f650"
   },
   "outputs": [
    {
     "data": {
      "text/plain": [
       "range"
      ]
     },
     "execution_count": 84,
     "metadata": {},
     "output_type": "execute_result"
    }
   ],
   "source": [
    "range"
   ]
  },
  {
   "cell_type": "markdown",
   "metadata": {
    "id": "91be4035"
   },
   "source": [
    "### Fonctions utiles dans python pour la data"
   ]
  },
  {
   "cell_type": "code",
   "execution_count": 85,
   "metadata": {
    "id": "62056e74"
   },
   "outputs": [
    {
     "name": "stdout",
     "output_type": "stream",
     "text": [
      "0\n",
      "1\n",
      "2\n",
      "3\n",
      "4\n"
     ]
    }
   ],
   "source": [
    "# range\n",
    "for x in range(0,5):\n",
    "    print(x)"
   ]
  },
  {
   "cell_type": "code",
   "execution_count": 86,
   "metadata": {
    "id": "085710de"
   },
   "outputs": [
    {
     "data": {
      "text/plain": [
       "[0, 1, 2, 3, 4, 5, 6, 7, 8, 9]"
      ]
     },
     "execution_count": 86,
     "metadata": {},
     "output_type": "execute_result"
    }
   ],
   "source": [
    "list(range(10))"
   ]
  },
  {
   "cell_type": "code",
   "execution_count": 87,
   "metadata": {
    "id": "cd2506e0"
   },
   "outputs": [],
   "source": [
    "# les listes compréhension\n",
    "\n",
    "x = [1,2,3,4]\n",
    "out = []\n",
    "\n",
    "for num in x :\n",
    "    out.append(num**2)"
   ]
  },
  {
   "cell_type": "code",
   "execution_count": 88,
   "metadata": {
    "id": "723dfa70"
   },
   "outputs": [
    {
     "name": "stdout",
     "output_type": "stream",
     "text": [
      "[1, 4, 9, 16]\n"
     ]
    }
   ],
   "source": [
    "print(out)"
   ]
  },
  {
   "cell_type": "code",
   "execution_count": 89,
   "metadata": {
    "id": "9a322cfc"
   },
   "outputs": [],
   "source": [
    "# on le met dans les crochets pour avoir direct une liste\n",
    "out = [num**2 for num in x]"
   ]
  },
  {
   "cell_type": "code",
   "execution_count": 90,
   "metadata": {
    "id": "d566cfef"
   },
   "outputs": [
    {
     "name": "stdout",
     "output_type": "stream",
     "text": [
      "[1, 4, 9, 16]\n"
     ]
    }
   ],
   "source": [
    "print(out)"
   ]
  },
  {
   "cell_type": "markdown",
   "metadata": {
    "id": "b09be916"
   },
   "source": [
    "### la fonction map"
   ]
  },
  {
   "cell_type": "code",
   "execution_count": 91,
   "metadata": {
    "id": "0a095ea0"
   },
   "outputs": [],
   "source": [
    "# exemple\n",
    "def times2(var):\n",
    "    return var*2"
   ]
  },
  {
   "cell_type": "code",
   "execution_count": 93,
   "metadata": {
    "id": "8c365e7b"
   },
   "outputs": [
    {
     "data": {
      "text/plain": [
       "12"
      ]
     },
     "execution_count": 93,
     "metadata": {},
     "output_type": "execute_result"
    }
   ],
   "source": [
    "times2(6)"
   ]
  },
  {
   "cell_type": "markdown",
   "metadata": {
    "id": "132e97df"
   },
   "source": [
    "Je peux utiliser la fonction map pour ce cas ci dessous:\n"
   ]
  },
  {
   "cell_type": "code",
   "execution_count": 94,
   "metadata": {
    "id": "9aa5c265"
   },
   "outputs": [],
   "source": [
    "seq = [1,2,3,4,5]"
   ]
  },
  {
   "cell_type": "code",
   "execution_count": 95,
   "metadata": {
    "id": "5fc624e2"
   },
   "outputs": [
    {
     "data": {
      "text/plain": [
       "<map at 0x7fb3f8f51220>"
      ]
     },
     "execution_count": 95,
     "metadata": {},
     "output_type": "execute_result"
    }
   ],
   "source": [
    "map(times2,seq)"
   ]
  },
  {
   "cell_type": "markdown",
   "metadata": {
    "id": "28ef5ef5"
   },
   "source": [
    "il me montre où est stockée mon map"
   ]
  },
  {
   "cell_type": "code",
   "execution_count": 96,
   "metadata": {
    "id": "6c33231c"
   },
   "outputs": [
    {
     "data": {
      "text/plain": [
       "[2, 4, 6, 8, 10]"
      ]
     },
     "execution_count": 96,
     "metadata": {},
     "output_type": "execute_result"
    }
   ],
   "source": [
    "# je peux le mettre dans une liste\n",
    "list(map(times2,seq))"
   ]
  },
  {
   "cell_type": "markdown",
   "metadata": {
    "id": "e76e283e"
   },
   "source": [
    "## la fonction lambda\n",
    "\n",
    "La fonction lambda est une petite fonction contenant qu’une seule expression. Elle peut agir sous anonymat parce qu’elle ne nécessite aucun nom. Elles sont très utiles lorsqu’il faut effectuer des petites tâches avec moins de code. Ce qui est très pratique lorsqu’on élabore des solutions Data.\n",
    "\n",
    "Si je reprend ma fonction times2 et que je l'a met sur une seule ligne"
   ]
  },
  {
   "cell_type": "code",
   "execution_count": 97,
   "metadata": {
    "id": "0a76eb3a"
   },
   "outputs": [],
   "source": [
    "def times2(var):return var*2"
   ]
  },
  {
   "cell_type": "markdown",
   "metadata": {
    "id": "a3bf6736"
   },
   "source": [
    "je supprime def et return et remplace par lambda et également le nom de la fonction qui va s'appeler lambda"
   ]
  },
  {
   "cell_type": "code",
   "execution_count": 100,
   "metadata": {
    "id": "24bba4b8"
   },
   "outputs": [],
   "source": [
    "t = lambda var:var*2"
   ]
  },
  {
   "cell_type": "code",
   "execution_count": 101,
   "metadata": {
    "id": "21e29210"
   },
   "outputs": [
    {
     "data": {
      "text/plain": [
       "14"
      ]
     },
     "execution_count": 101,
     "metadata": {},
     "output_type": "execute_result"
    }
   ],
   "source": [
    "t(7)"
   ]
  },
  {
   "cell_type": "markdown",
   "metadata": {
    "id": "c638000e"
   },
   "source": [
    "En général on utilise la lambda fonction quand on veut utliser  une fonction qui prend comme argument une autre fonction. Par exemple les fonctions map(), filter() …\n",
    "\n"
   ]
  },
  {
   "cell_type": "code",
   "execution_count": 102,
   "metadata": {
    "id": "dc5ff0cc"
   },
   "outputs": [
    {
     "data": {
      "text/plain": [
       "[3, 6, 9, 12, 15]"
      ]
     },
     "execution_count": 102,
     "metadata": {},
     "output_type": "execute_result"
    }
   ],
   "source": [
    "# exemple\n",
    "list(map(lambda num:num*3, seq))"
   ]
  },
  {
   "cell_type": "markdown",
   "metadata": {
    "id": "6f1682c3"
   },
   "source": [
    "Plus besoin de definir une fonction avant je met tout dans la fonction lambda"
   ]
  },
  {
   "cell_type": "markdown",
   "metadata": {
    "id": "5f52cf7d"
   },
   "source": [
    "### la fonction filter\n",
    "\n",
    "Exemple :\n",
    "\n",
    "Je veux filtrer et ne garder que les nombres pairs dans ma liste seq"
   ]
  },
  {
   "cell_type": "code",
   "execution_count": 103,
   "metadata": {
    "id": "0d1dc53c"
   },
   "outputs": [
    {
     "data": {
      "text/plain": [
       "[2, 4]"
      ]
     },
     "execution_count": 103,
     "metadata": {},
     "output_type": "execute_result"
    }
   ],
   "source": [
    "list(filter (lambda num : num%2 == 0, seq))"
   ]
  },
  {
   "cell_type": "markdown",
   "metadata": {
    "id": "f76dacc5"
   },
   "source": [
    "### les methodes pour les chaines de caractères"
   ]
  },
  {
   "cell_type": "code",
   "execution_count": 104,
   "metadata": {
    "id": "160f20c7"
   },
   "outputs": [],
   "source": [
    "s = \"Coucou je m'appelle Fatima\""
   ]
  },
  {
   "cell_type": "code",
   "execution_count": 105,
   "metadata": {
    "id": "2c4dca59"
   },
   "outputs": [
    {
     "data": {
      "text/plain": [
       "\"coucou je m'appelle fatima\""
      ]
     },
     "execution_count": 105,
     "metadata": {},
     "output_type": "execute_result"
    }
   ],
   "source": [
    "s.lower()"
   ]
  },
  {
   "cell_type": "code",
   "execution_count": 106,
   "metadata": {
    "id": "565daa90"
   },
   "outputs": [
    {
     "data": {
      "text/plain": [
       "\"COUCOU JE M'APPELLE FATIMA\""
      ]
     },
     "execution_count": 106,
     "metadata": {},
     "output_type": "execute_result"
    }
   ],
   "source": [
    "s.upper()"
   ]
  },
  {
   "cell_type": "code",
   "execution_count": 107,
   "metadata": {
    "id": "84f85f81"
   },
   "outputs": [
    {
     "data": {
      "text/plain": [
       "['Coucou', 'je', \"m'appelle\", 'Fatima']"
      ]
     },
     "execution_count": 107,
     "metadata": {},
     "output_type": "execute_result"
    }
   ],
   "source": [
    "s.split()"
   ]
  },
  {
   "cell_type": "code",
   "execution_count": 108,
   "metadata": {
    "id": "a3cc05f9"
   },
   "outputs": [],
   "source": [
    "tweet = \"Manger 5 fruits et légumes #santé\""
   ]
  },
  {
   "cell_type": "code",
   "execution_count": 109,
   "metadata": {
    "id": "f674d5ca"
   },
   "outputs": [
    {
     "data": {
      "text/plain": [
       "['Manger', '5', 'fruits', 'et', 'légumes', '#santé']"
      ]
     },
     "execution_count": 109,
     "metadata": {},
     "output_type": "execute_result"
    }
   ],
   "source": [
    "tweet.split()"
   ]
  },
  {
   "cell_type": "code",
   "execution_count": 110,
   "metadata": {
    "id": "5cdf3ec1"
   },
   "outputs": [
    {
     "data": {
      "text/plain": [
       "['Manger 5 fruits et légumes ', 'santé']"
      ]
     },
     "execution_count": 110,
     "metadata": {},
     "output_type": "execute_result"
    }
   ],
   "source": [
    "tweet.split('#')"
   ]
  },
  {
   "cell_type": "code",
   "execution_count": 111,
   "metadata": {
    "id": "084069b3"
   },
   "outputs": [
    {
     "data": {
      "text/plain": [
       "'santé'"
      ]
     },
     "execution_count": 111,
     "metadata": {},
     "output_type": "execute_result"
    }
   ],
   "source": [
    "tweet.split('#')[1]"
   ]
  },
  {
   "cell_type": "markdown",
   "metadata": {
    "id": "604f5e4e"
   },
   "source": [
    "Peut être hyper utile pour faire de l'analyse de texte ."
   ]
  },
  {
   "cell_type": "markdown",
   "metadata": {
    "id": "65e0b384"
   },
   "source": [
    "### les methodes pour les dictionnaires\n"
   ]
  },
  {
   "cell_type": "code",
   "execution_count": null,
   "metadata": {
    "id": "196cc449"
   },
   "outputs": [],
   "source": [
    "dic = {'k1':1, 'k2':2}"
   ]
  },
  {
   "cell_type": "code",
   "execution_count": null,
   "metadata": {
    "id": "ab9de7c2"
   },
   "outputs": [],
   "source": [
    "dic"
   ]
  },
  {
   "cell_type": "code",
   "execution_count": null,
   "metadata": {
    "id": "dc93b717"
   },
   "outputs": [],
   "source": [
    "dic.items()"
   ]
  },
  {
   "cell_type": "code",
   "execution_count": null,
   "metadata": {
    "id": "3696bbff"
   },
   "outputs": [],
   "source": [
    "dic.values()"
   ]
  },
  {
   "cell_type": "markdown",
   "metadata": {
    "id": "a067c044"
   },
   "source": [
    "### methodes sur les listes"
   ]
  },
  {
   "cell_type": "code",
   "execution_count": null,
   "metadata": {
    "id": "12ea55c4"
   },
   "outputs": [],
   "source": [
    "lst=[1,2,3]"
   ]
  },
  {
   "cell_type": "markdown",
   "metadata": {
    "id": "532d34ca"
   },
   "source": [
    "list pop() est une fonction intégrée à Python qui supprime et renvoie la dernière valeur de la liste ou la valeur d'index donnée. Paramètre: index ( facultatif ) – La valeur de l'index est extraite et supprimée. Si l'index n'est pas donné, le dernier élément est extrait et supprimé."
   ]
  },
  {
   "cell_type": "code",
   "execution_count": null,
   "metadata": {
    "id": "b99f4f34"
   },
   "outputs": [],
   "source": [
    "lst.pop()"
   ]
  },
  {
   "cell_type": "code",
   "execution_count": null,
   "metadata": {
    "id": "d461d8fd"
   },
   "outputs": [],
   "source": [
    "lst"
   ]
  },
  {
   "cell_type": "code",
   "execution_count": null,
   "metadata": {
    "id": "6f36cf6f"
   },
   "outputs": [],
   "source": [
    "lst = [1,2,3,4,5]"
   ]
  },
  {
   "cell_type": "code",
   "execution_count": null,
   "metadata": {
    "id": "0f1bc9a2"
   },
   "outputs": [],
   "source": [
    "truc = lst.pop()"
   ]
  },
  {
   "cell_type": "code",
   "execution_count": null,
   "metadata": {
    "id": "1554e333"
   },
   "outputs": [],
   "source": [
    "truc"
   ]
  },
  {
   "cell_type": "code",
   "execution_count": null,
   "metadata": {
    "id": "0a3fd3c0"
   },
   "outputs": [],
   "source": [
    "lst"
   ]
  },
  {
   "cell_type": "code",
   "execution_count": null,
   "metadata": {
    "id": "929b3862"
   },
   "outputs": [],
   "source": [
    "first = lst.pop(0)"
   ]
  },
  {
   "cell_type": "code",
   "execution_count": null,
   "metadata": {
    "id": "74e5606c"
   },
   "outputs": [],
   "source": [
    "first"
   ]
  },
  {
   "cell_type": "code",
   "execution_count": null,
   "metadata": {
    "id": "3bcb618f"
   },
   "outputs": [],
   "source": [
    "lst.append('new')"
   ]
  },
  {
   "cell_type": "code",
   "execution_count": null,
   "metadata": {
    "id": "e1cfd85a"
   },
   "outputs": [],
   "source": [
    "lst"
   ]
  },
  {
   "cell_type": "code",
   "execution_count": null,
   "metadata": {
    "id": "bd451a64"
   },
   "outputs": [],
   "source": [
    "#operateur in pour verifier qu'un element ce trouve sur la liste\n",
    "'x'in [1,2,3]"
   ]
  },
  {
   "cell_type": "code",
   "execution_count": null,
   "metadata": {
    "id": "2d4975c0"
   },
   "outputs": [],
   "source": [
    "'x' in ['x','y','z']"
   ]
  },
  {
   "cell_type": "code",
   "execution_count": null,
   "metadata": {
    "id": "8713e8fd"
   },
   "outputs": [],
   "source": [
    "# recuperer des elements dans une liste de tuple"
   ]
  },
  {
   "cell_type": "code",
   "execution_count": null,
   "metadata": {
    "id": "f51c47be"
   },
   "outputs": [],
   "source": [
    "x = [(1,2),(3,4),(5,6)]"
   ]
  },
  {
   "cell_type": "code",
   "execution_count": null,
   "metadata": {
    "id": "f767f57f"
   },
   "outputs": [],
   "source": [
    "x[0]"
   ]
  },
  {
   "cell_type": "code",
   "execution_count": null,
   "metadata": {
    "id": "124924df"
   },
   "outputs": [],
   "source": [
    "# si je veux recupérer le 2\n",
    "x[0][1]"
   ]
  },
  {
   "cell_type": "code",
   "execution_count": null,
   "metadata": {
    "id": "93a53f99"
   },
   "outputs": [],
   "source": [
    "# avec une fonction\n",
    "for elt in x:\n",
    "    print(elt)"
   ]
  },
  {
   "cell_type": "code",
   "execution_count": null,
   "metadata": {
    "id": "fa1a1cde"
   },
   "outputs": [],
   "source": [
    "for a, b in x:\n",
    "    print(b)"
   ]
  },
  {
   "cell_type": "raw",
   "metadata": {
    "id": "b1e1ee41"
   },
   "source": [
    "## Les Modules\n",
    "\n",
    "Python est un language construit sur le principe de briques. Ces briques sont ce qu’on appelle des packages.il faut toujours préciser les packages que vous utilisez au début du code, sinon Python ne reconnait pas les fonctions appelées.\n",
    "\n",
    "**exemple**"
   ]
  },
  {
   "cell_type": "code",
   "execution_count": null,
   "metadata": {
    "id": "35f0e3b6"
   },
   "outputs": [],
   "source": []
  },
  {
   "cell_type": "code",
   "execution_count": null,
   "metadata": {
    "id": "6f12628a"
   },
   "outputs": [],
   "source": [
    "import numpy\n",
    "print(numpy.arange(5))"
   ]
  },
  {
   "cell_type": "markdown",
   "metadata": {
    "id": "e662397c"
   },
   "source": [
    "## Import module as md - donner un nom au module"
   ]
  },
  {
   "cell_type": "markdown",
   "metadata": {
    "id": "2e046207"
   },
   "source": [
    "On peut aussi donner un pseudonyme au module pour éviter de taper un nom trop long à chaque fois qu’on utilise une fonction.\n",
    "\n",
    "Classiquement le nom raccourci de numpy est np, celui de pandas est pd"
   ]
  },
  {
   "cell_type": "code",
   "execution_count": null,
   "metadata": {
    "id": "14443045"
   },
   "outputs": [],
   "source": [
    "import pandas as pd\n",
    "import numpy as np\n",
    "small_array = np.array([[1, 2], [3, 4]])\n",
    "data = pd.DataFrame(small_array)\n",
    "data.head()"
   ]
  },
  {
   "cell_type": "code",
   "execution_count": null,
   "metadata": {
    "id": "eaedad93"
   },
   "outputs": [],
   "source": []
  }
 ],
 "metadata": {
  "colab": {
   "provenance": []
  },
  "kernelspec": {
   "display_name": "Python 3",
   "language": "python",
   "name": "python3"
  },
  "language_info": {
   "codemirror_mode": {
    "name": "ipython",
    "version": 3
   },
   "file_extension": ".py",
   "mimetype": "text/x-python",
   "name": "python",
   "nbconvert_exporter": "python",
   "pygments_lexer": "ipython3",
   "version": "3.8.5"
  }
 },
 "nbformat": 4,
 "nbformat_minor": 5
}
